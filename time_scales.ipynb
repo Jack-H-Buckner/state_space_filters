{
 "cells": [
  {
   "cell_type": "code",
   "execution_count": 2,
   "id": "9bf7c234-a818-44e6-89f8-161286e3496c",
   "metadata": {},
   "outputs": [
    {
     "name": "stderr",
     "output_type": "stream",
     "text": [
      "WARNING: replacing module stable_growth_filter.\n"
     ]
    },
    {
     "data": {
      "text/plain": [
       "Main.stable_growth_filter"
      ]
     },
     "execution_count": 2,
     "metadata": {},
     "output_type": "execute_result"
    }
   ],
   "source": [
    "using Plots\n",
    "using LinearAlgebra\n",
    "\n",
    "using Distributions\n",
    "include(\"stable_growth_filter.jl\")"
   ]
  },
  {
   "cell_type": "code",
   "execution_count": 129,
   "id": "0cad2117-6bc3-46fc-9b66-01b8f6c7e018",
   "metadata": {},
   "outputs": [
    {
     "data": {
      "text/plain": [
       "time_to_p01 (generic function with 1 method)"
      ]
     },
     "execution_count": 129,
     "metadata": {},
     "output_type": "execute_result"
    }
   ],
   "source": [
    "# Joint state and belief dynamics \n",
    "# set accumulators\n",
    "\n",
    "function time_to_p01(r, sigma_nu,sigma_omega)\n",
    "    N = 100 \n",
    "    M = 500\n",
    "    x_t_ls = zeros(M)\n",
    "    p_ls = zeros(M)\n",
    "    K = 1.0\n",
    "    for j in 1:M\n",
    "        # set paramters/ states\n",
    "        B = [0,0,0.1,0.1,0.5]\n",
    "        log_x_t = 0.0\n",
    "        d_process = Distributions.Normal(0,sigma_nu)\n",
    "        d_observation = Distributions.Normal(0,sigma_omega)\n",
    "        # simulations\n",
    "        for i in 1:N\n",
    "            # update\n",
    "            log_x_t = stable_growth_filter.update_states_H1(log_x_t,r,d_process)\n",
    "            B = stable_growth_filter.update_beleifs(B,log_x_t,r,K,sigma_nu,sigma_omega, d_process,d_observation)\n",
    "            if B[5] < 0.2 && p_ls[j] ==0 \n",
    "                p_ls[j] = i\n",
    "                \n",
    "            end\n",
    "            if exp(log_x_t) < 0.2 && x_t_ls[j] == 0\n",
    "                x_t_ls[j] = i\n",
    "                \n",
    "            end\n",
    "            \n",
    "            if p_ls[j] != 0 && x_t_ls[j] != 0\n",
    "                break\n",
    "            end\n",
    "\n",
    "        end \n",
    "        end \n",
    "    return mean(p_ls)/ mean(x_t_ls) \n",
    "end\n",
    "    \n"
   ]
  },
  {
   "cell_type": "code",
   "execution_count": 130,
   "id": "b4635581-c17a-40c6-96f6-482dfe61e01d",
   "metadata": {},
   "outputs": [
    {
     "data": {
      "text/plain": [
       "2.4380493678506925"
      ]
     },
     "execution_count": 130,
     "metadata": {},
     "output_type": "execute_result"
    }
   ],
   "source": [
    "time_to_p01.(0.9, 0.3,0.001)"
   ]
  },
  {
   "cell_type": "code",
   "execution_count": null,
   "id": "f82ea137-812c-497c-8dcf-29955c8d15c9",
   "metadata": {},
   "outputs": [],
   "source": []
  },
  {
   "cell_type": "code",
   "execution_count": 1,
   "id": "967ae0a0-ecbb-4389-b08e-43c2fe30ad9f",
   "metadata": {},
   "outputs": [
    {
     "data": {
      "text/plain": [
       "π = 3.1415926535897..."
      ]
     },
     "execution_count": 1,
     "metadata": {},
     "output_type": "execute_result"
    }
   ],
   "source": [
    "pi"
   ]
  },
  {
   "cell_type": "code",
   "execution_count": null,
   "id": "eb75cc4e-6149-4e20-8f5b-ce72e4d6426f",
   "metadata": {},
   "outputs": [],
   "source": []
  }
 ],
 "metadata": {
  "kernelspec": {
   "display_name": "JuliaPro_v1.5.4-1 1.5.4",
   "language": "julia",
   "name": "juliapro_v1.5.4-1-1.5"
  },
  "language_info": {
   "file_extension": ".jl",
   "mimetype": "application/julia",
   "name": "julia",
   "version": "1.5.4"
  }
 },
 "nbformat": 4,
 "nbformat_minor": 5
}
